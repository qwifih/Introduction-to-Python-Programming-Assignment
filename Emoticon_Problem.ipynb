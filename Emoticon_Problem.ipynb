{
 "cells": [
  {
   "cell_type": "code",
   "execution_count": 34,
   "id": "2ad371eb-4def-47ad-9fe1-22991ffe4944",
   "metadata": {},
   "outputs": [],
   "source": [
    " def emotify(sentence):\n",
    "    # Define a dictionary for the words that emoticons would replace\n",
    "    emoticon_dict = {\n",
    "        \"smile\": \":)\",\n",
    "        \"grin\": \":D\",\n",
    "        \"sad\": \":((\",\n",
    "        \"mad\": \">:(\"\n",
    "    }\n",
    "    \n",
    "    # Split the sentence into words\n",
    "    words = sentence.split()\n",
    "    \n",
    "    # Replace words with emoticons if they exist in the dictionary\n",
    "    replace_words = [emoticon_dict.get(word, word) for word in words]\n",
    "    \n",
    "    # Join the words back into a sentence\n",
    "    modified_sentence = ' '.join(replace_words)\n",
    "    return modified_sentence"
   ]
  },
  {
   "cell_type": "code",
   "execution_count": 30,
   "id": "89022577-77ce-4e62-9f8f-b0863b3b677a",
   "metadata": {},
   "outputs": [
    {
     "name": "stdout",
     "output_type": "stream",
     "text": [
      "Make me :)\n"
     ]
    }
   ],
   "source": [
    "emotify = \"Make me smile \" # input the sentence\n",
    "output_sentence = replace_words_with_emoticons(emotify)\n",
    "print(output_sentence)  # Outputs the emoticon"
   ]
  },
  {
   "cell_type": "code",
   "execution_count": null,
   "id": "95e3f6d2-a758-44bc-805c-fcd415ea206b",
   "metadata": {},
   "outputs": [],
   "source": []
  }
 ],
 "metadata": {
  "kernelspec": {
   "display_name": "Python 3 (ipykernel)",
   "language": "python",
   "name": "python3"
  },
  "language_info": {
   "codemirror_mode": {
    "name": "ipython",
    "version": 3
   },
   "file_extension": ".py",
   "mimetype": "text/x-python",
   "name": "python",
   "nbconvert_exporter": "python",
   "pygments_lexer": "ipython3",
   "version": "3.12.4"
  }
 },
 "nbformat": 4,
 "nbformat_minor": 5
}
