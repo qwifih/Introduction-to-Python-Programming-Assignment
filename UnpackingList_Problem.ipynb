{
 "cells": [
  {
   "cell_type": "code",
   "execution_count": 24,
   "id": "ef3430ff-32e3-4ecb-ab49-137229e4c135",
   "metadata": {},
   "outputs": [],
   "source": [
    "# Input the sample list\n",
    "writeyourcodehere = [1,2,3,4,5,6]"
   ]
  },
  {
   "cell_type": "code",
   "execution_count": 26,
   "id": "d8a1aab2-cae0-44df-9199-e621a2d0fa51",
   "metadata": {},
   "outputs": [],
   "source": [
    "# Unpacking the list into three variables\n",
    "first = writeyourcodehere[0]               # First element\n",
    "last = writeyourcodehere[-1]                # Last element\n",
    "middle = writeyourcodehere[1:-1]           # All elements in between\n"
   ]
  },
  {
   "cell_type": "code",
   "execution_count": 28,
   "id": "f869bc13-1c17-4b30-8560-4dd45e9c1ca8",
   "metadata": {},
   "outputs": [
    {
     "name": "stdout",
     "output_type": "stream",
     "text": [
      "First: 1\n",
      "Middle: [2, 3, 4, 5]\n",
      "Last: 6\n"
     ]
    }
   ],
   "source": [
    "# Print the variables\n",
    "print(\"First:\", first)\n",
    "print(\"Middle:\", middle)\n",
    "print(\"Last:\", last)"
   ]
  },
  {
   "cell_type": "code",
   "execution_count": null,
   "id": "9c2b55c2-9086-4be7-97d6-3263b243410f",
   "metadata": {},
   "outputs": [],
   "source": []
  }
 ],
 "metadata": {
  "kernelspec": {
   "display_name": "Python 3 (ipykernel)",
   "language": "python",
   "name": "python3"
  },
  "language_info": {
   "codemirror_mode": {
    "name": "ipython",
    "version": 3
   },
   "file_extension": ".py",
   "mimetype": "text/x-python",
   "name": "python",
   "nbconvert_exporter": "python",
   "pygments_lexer": "ipython3",
   "version": "3.12.4"
  }
 },
 "nbformat": 4,
 "nbformat_minor": 5
}
