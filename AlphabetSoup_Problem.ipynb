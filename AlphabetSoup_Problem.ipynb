{
 "cells": [
  {
   "cell_type": "code",
   "execution_count": 38,
   "id": "f515ccb6-9cf2-409d-a240-39a1f1c7c7d8",
   "metadata": {},
   "outputs": [],
   "source": [
    "def sort_string_alphabetically(alphabet_soup):\n",
    "    \n",
    "    # Remove spaces and convert to lowercase\n",
    "    cleaned_string = alphabet_soup.replace(\" \", \"\").lower()\n",
    "    \n",
    "    # Sort the letters and join them back into a string\n",
    "    sorted_string = ''.join(sorted(cleaned_string))\n",
    "    return sorted_string"
   ]
  },
  {
   "cell_type": "code",
   "execution_count": 42,
   "id": "113200a9-4b52-40f7-ba06-64075ec346cc",
   "metadata": {},
   "outputs": [
    {
     "name": "stdout",
     "output_type": "stream",
     "text": [
      "ehllo\n"
     ]
    }
   ],
   "source": [
    "alphabet_soup = \"Hello\" # Input a string\n",
    "sorted_str = sort_string_alphabetically(alphabet_soup)\n",
    "print(sorted_str) # Outputs the string in alphabetical order"
   ]
  },
  {
   "cell_type": "code",
   "execution_count": null,
   "id": "6d332b72-889e-4d88-85aa-943bd1f4b01e",
   "metadata": {},
   "outputs": [],
   "source": []
  }
 ],
 "metadata": {
  "kernelspec": {
   "display_name": "Python 3 (ipykernel)",
   "language": "python",
   "name": "python3"
  },
  "language_info": {
   "codemirror_mode": {
    "name": "ipython",
    "version": 3
   },
   "file_extension": ".py",
   "mimetype": "text/x-python",
   "name": "python",
   "nbconvert_exporter": "python",
   "pygments_lexer": "ipython3",
   "version": "3.12.4"
  }
 },
 "nbformat": 4,
 "nbformat_minor": 5
}
